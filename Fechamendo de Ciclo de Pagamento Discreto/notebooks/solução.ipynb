{
 "cells": [
  {
   "cell_type": "markdown",
   "metadata": {},
   "source": [
    "# Preparando o ambiente"
   ]
  },
  {
   "cell_type": "code",
   "execution_count": 60,
   "metadata": {},
   "outputs": [],
   "source": [
    "import pandas as pd\n",
    "import timeit\n",
    "from functools import partial"
   ]
  },
  {
   "cell_type": "markdown",
   "metadata": {},
   "source": [
    "# Processo"
   ]
  },
  {
   "cell_type": "markdown",
   "metadata": {},
   "source": [
    "Variavéris principais"
   ]
  },
  {
   "cell_type": "code",
   "execution_count": 50,
   "metadata": {},
   "outputs": [],
   "source": [
    "Y = 80 # Valor do serviço\n",
    "X = 50 # Notas de pagamentos"
   ]
  },
  {
   "cell_type": "markdown",
   "metadata": {},
   "source": [
    "Função de cálculo"
   ]
  },
  {
   "cell_type": "code",
   "execution_count": 57,
   "metadata": {},
   "outputs": [],
   "source": [
    "def pagamento(Y,X):\n",
    "\n",
    "    df = pd.DataFrame({'n':[],'m':[],'pagamento':[],'débito':[],'saldo':[],'execução':[]})\n",
    "\n",
    "    n = 1 # Sempre começa com um, já que se tá havendo pagamento é porque houve 1 serviço\n",
    "    m = Y//(X) # Quantidade inteira de notas X que cabem em Y\n",
    "\n",
    "    if Y%X != 0:\n",
    "        m+=1\n",
    "\n",
    "    pagamento = X*m\n",
    "    saldo = pagamento - Y\n",
    "\n",
    "    # Criando o DataFrame a partir do dicionário\n",
    "    df_nova_linha = pd.DataFrame({'n': [n], 'm': [m], 'pagamento': [pagamento], 'débito': [Y], 'saldo': [saldo]})\n",
    "\n",
    "    df = pd.concat([df,df_nova_linha],ignore_index=True)\n",
    "\n",
    "    while saldo != 0:\n",
    "\n",
    "        n += 1\n",
    "        if X + saldo >= Y:\n",
    "            m = 1  \n",
    "        else: \n",
    "            m = (Y)//(X)\n",
    "            if Y%X != 0:\n",
    "                m+=1\n",
    "\n",
    "        pagamento = X*m + saldo\n",
    "        saldo = pagamento - Y\n",
    "\n",
    "        df_nova_linha = pd.DataFrame({'n': [n], 'm': [m], 'pagamento': [pagamento], 'débito': [Y], 'saldo': [saldo]})\n",
    "        df = pd.concat([df,df_nova_linha],ignore_index=True)\n",
    "\n",
    "\n",
    "    return df     \n"
   ]
  },
  {
   "cell_type": "markdown",
   "metadata": {},
   "source": [
    "Resposta"
   ]
  },
  {
   "cell_type": "code",
   "execution_count": 54,
   "metadata": {},
   "outputs": [],
   "source": [
    "df = pagamento(Y,X)"
   ]
  },
  {
   "cell_type": "markdown",
   "metadata": {},
   "source": [
    "Desempenho da função"
   ]
  },
  {
   "cell_type": "code",
   "execution_count": 65,
   "metadata": {},
   "outputs": [
    {
     "name": "stdout",
     "output_type": "stream",
     "text": [
      "O tempo médio de execução da função pagamento com parametros Y = 80 e X = 50 é de 0.00279 segundos\n"
     ]
    }
   ],
   "source": [
    "funcao = partial(pagamento,Y,X)\n",
    "print(f'O tempo médio de execução da função pagamento com parametros Y = {Y} e X = {X} é de {timeit.timeit(funcao,number=1000)/1000:.3} segundos')"
   ]
  }
 ],
 "metadata": {
  "kernelspec": {
   "display_name": "Python 3",
   "language": "python",
   "name": "python3"
  },
  "language_info": {
   "codemirror_mode": {
    "name": "ipython",
    "version": 3
   },
   "file_extension": ".py",
   "mimetype": "text/x-python",
   "name": "python",
   "nbconvert_exporter": "python",
   "pygments_lexer": "ipython3",
   "version": "3.11.4"
  },
  "orig_nbformat": 4
 },
 "nbformat": 4,
 "nbformat_minor": 2
}
