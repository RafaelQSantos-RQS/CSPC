{
 "cells": [
  {
   "attachments": {},
   "cell_type": "markdown",
   "metadata": {},
   "source": [
    "# Constantes de kaprekar"
   ]
  },
  {
   "attachments": {},
   "cell_type": "markdown",
   "metadata": {},
   "source": [
    "Porque o mistério dos números 6174 e 495 intriga matemáticos há 70 anos?\n",
    "Esses números são resultados do que é conhecido como constante de Kaprekar.\n",
    "\n",
    "a) Pegue inicialmente um número qualquer de 4 dígitos com pelo menos dois diferentes, por exemplo, 3429.\n",
    "\n",
    "b) ordene do maior para o menor 9432;\n",
    "\n",
    "c) ordene do menor para o maior 2349;\n",
    "\n",
    "d) subtraia e observe o resultado → 9432 - 2349 = 7083;\n",
    "\n",
    "e) repita o procedimento\n",
    "\n",
    "f) independente do que ocorrer em, no máximo, sete passos você chegará ao resultado 6174 ou 495"
   ]
  },
  {
   "attachments": {},
   "cell_type": "markdown",
   "metadata": {},
   "source": [
    "## 1ª) Recebendo a váriavel"
   ]
  },
  {
   "cell_type": "code",
   "execution_count": 1,
   "metadata": {},
   "outputs": [],
   "source": [
    "variavel = input(\"Insira o número\")"
   ]
  },
  {
   "attachments": {},
   "cell_type": "markdown",
   "metadata": {},
   "source": [
    "## 2ª) Ordenar do maior para o menor"
   ]
  },
  {
   "cell_type": "code",
   "execution_count": 2,
   "metadata": {},
   "outputs": [],
   "source": [
    "def ordem_decrescente(number):\n",
    "    # Transformação do número em uma lista de números\n",
    "    num = []\n",
    "    for numero in list(number):\n",
    "        num.append(int(numero))\n",
    "\n",
    "    # Ordenando a lista de número\n",
    "    num.sort(reverse=True)\n",
    "\n",
    "    # Reconstruindo o número como string\n",
    "    retorno = ''\n",
    "    for numero in num:\n",
    "        retorno += str(numero)\n",
    "\n",
    "    return retorno"
   ]
  },
  {
   "attachments": {},
   "cell_type": "markdown",
   "metadata": {},
   "source": [
    "## 3ª) Ordenar do menor para o maior"
   ]
  },
  {
   "cell_type": "code",
   "execution_count": 3,
   "metadata": {},
   "outputs": [],
   "source": [
    "def ordem_crescente(number):\n",
    "    # Transformação do número em uma lista de números\n",
    "    num = []\n",
    "    for numero in list(number):\n",
    "        num.append(int(numero))\n",
    "\n",
    "    # Ordenando a lista de número\n",
    "    num.sort(reverse=False)\n",
    "\n",
    "    # Reconstruindo o número como string\n",
    "    retorno = ''\n",
    "    for numero in num:\n",
    "        retorno += str(numero)\n",
    "    \n",
    "    return retorno"
   ]
  },
  {
   "attachments": {},
   "cell_type": "markdown",
   "metadata": {},
   "source": [
    "## 4ª) Efetuar a subtração"
   ]
  },
  {
   "cell_type": "code",
   "execution_count": 4,
   "metadata": {},
   "outputs": [],
   "source": [
    "def subtracao(decrescente,crescente):\n",
    "    return str(int(decrescente) - int(crescente))"
   ]
  },
  {
   "attachments": {},
   "cell_type": "markdown",
   "metadata": {},
   "source": [
    "## 5ª) Repetição das etapas 2, 3 e 4, até a constante"
   ]
  },
  {
   "cell_type": "code",
   "execution_count": 5,
   "metadata": {},
   "outputs": [
    {
     "name": "stdout",
     "output_type": "stream",
     "text": [
      "Variavel de teste: 1474\n",
      "Loop:1 O número na ordem decrescente: 7441 | O número na ordem crescente: 1447 | Valor da diferença nesse loop: 5994\n",
      "Loop:2 O número na ordem decrescente: 9954 | O número na ordem crescente: 4599 | Valor da diferença nesse loop: 5355\n",
      "Loop:3 O número na ordem decrescente: 5553 | O número na ordem crescente: 3555 | Valor da diferença nesse loop: 1998\n",
      "Loop:4 O número na ordem decrescente: 9981 | O número na ordem crescente: 1899 | Valor da diferença nesse loop: 8082\n",
      "Loop:5 O número na ordem decrescente: 8820 | O número na ordem crescente: 0288 | Valor da diferença nesse loop: 8532\n",
      "Loop:6 O número na ordem decrescente: 8532 | O número na ordem crescente: 2358 | Valor da diferença nesse loop: 6174\n",
      "O número de loops que for necessário é: 6\n"
     ]
    }
   ],
   "source": [
    "# Etapas 2, 3 e 4\n",
    "\n",
    "variavel_descrescente = ordem_decrescente(variavel) # Etapa 2\n",
    "variavel_crescente = ordem_crescente(variavel) # Etapa 3\n",
    "resposta = subtracao(decrescente=variavel_descrescente,crescente=variavel_crescente) # Etapa 4\n",
    "\n",
    "# Etapa 5\n",
    "print(f'Variavel de teste: {variavel}')\n",
    "loop = 1\n",
    "while True:\n",
    "    print(f'Loop:{loop}'\\\n",
    "          f' O número na ordem decrescente: {variavel_descrescente} |'\\\n",
    "          f' O número na ordem crescente: {variavel_crescente} |'\\\n",
    "          f' Valor da diferença nesse loop: {resposta}')\n",
    "\n",
    "    # Teste se o valor da subtração atual é uma das constantes\n",
    "    if resposta in ('6174','495'): \n",
    "        break\n",
    "    \n",
    "    # Repetição das etapas 1,2,3 e 4\n",
    "    variavel_descrescente,variavel_crescente = ordem_decrescente(resposta),ordem_crescente(resposta)\n",
    "    resposta = subtracao(decrescente=variavel_descrescente,crescente=variavel_crescente)\n",
    "    \n",
    "    # Número de vezes que o loop passou\n",
    "    loop+=1\n",
    "\n",
    "print('O número de loops que for necessário é:',loop)"
   ]
  },
  {
   "attachments": {},
   "cell_type": "markdown",
   "metadata": {},
   "source": [
    "## Questionamentos adicionais"
   ]
  }
 ],
 "metadata": {
  "kernelspec": {
   "display_name": "Python 3",
   "language": "python",
   "name": "python3"
  },
  "language_info": {
   "codemirror_mode": {
    "name": "ipython",
    "version": 3
   },
   "file_extension": ".py",
   "mimetype": "text/x-python",
   "name": "python",
   "nbconvert_exporter": "python",
   "pygments_lexer": "ipython3",
   "version": "3.11.4"
  },
  "orig_nbformat": 4
 },
 "nbformat": 4,
 "nbformat_minor": 2
}
