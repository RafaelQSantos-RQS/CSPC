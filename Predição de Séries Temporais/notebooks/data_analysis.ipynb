{
 "cells": [
  {
   "cell_type": "markdown",
   "metadata": {},
   "source": [
    "# Setup enviroment"
   ]
  },
  {
   "cell_type": "code",
   "execution_count": 2,
   "metadata": {},
   "outputs": [],
   "source": [
    "import pandas as pd\n",
    "import os"
   ]
  },
  {
   "cell_type": "markdown",
   "metadata": {},
   "source": [
    "# Extract"
   ]
  },
  {
   "cell_type": "code",
   "execution_count": 3,
   "metadata": {},
   "outputs": [],
   "source": [
    "data_dir = os.path.abspath('..\\\\') + '\\\\data'"
   ]
  },
  {
   "cell_type": "code",
   "execution_count": 4,
   "metadata": {},
   "outputs": [],
   "source": [
    "df = pd.read_csv(f'{data_dir}\\\\analysis\\\\data_to_analysis.csv')"
   ]
  },
  {
   "cell_type": "markdown",
   "metadata": {},
   "source": [
    "# Data information"
   ]
  },
  {
   "cell_type": "code",
   "execution_count": 14,
   "metadata": {},
   "outputs": [
    {
     "name": "stdout",
     "output_type": "stream",
     "text": [
      "<class 'pandas.core.frame.DataFrame'>\n",
      "RangeIndex: 61364 entries, 0 to 61363\n",
      "Data columns (total 5 columns):\n",
      " #   Column     Non-Null Count  Dtype  \n",
      "---  ------     --------------  -----  \n",
      " 0   BID        61364 non-null  float64\n",
      " 1   ASK        61364 non-null  float64\n",
      " 2   SPREAD     61364 non-null  float64\n",
      " 3   DATETIME   61364 non-null  object \n",
      " 4   TIMESTAMP  61364 non-null  int64  \n",
      "dtypes: float64(3), int64(1), object(1)\n",
      "memory usage: 2.3+ MB\n"
     ]
    }
   ],
   "source": [
    "df.info()"
   ]
  },
  {
   "cell_type": "code",
   "execution_count": 13,
   "metadata": {},
   "outputs": [
    {
     "data": {
      "text/html": [
       "<div>\n",
       "<style scoped>\n",
       "    .dataframe tbody tr th:only-of-type {\n",
       "        vertical-align: middle;\n",
       "    }\n",
       "\n",
       "    .dataframe tbody tr th {\n",
       "        vertical-align: top;\n",
       "    }\n",
       "\n",
       "    .dataframe thead th {\n",
       "        text-align: right;\n",
       "    }\n",
       "</style>\n",
       "<table border=\"1\" class=\"dataframe\">\n",
       "  <thead>\n",
       "    <tr style=\"text-align: right;\">\n",
       "      <th></th>\n",
       "      <th>BID</th>\n",
       "      <th>ASK</th>\n",
       "      <th>SPREAD</th>\n",
       "      <th>TIMESTAMP</th>\n",
       "    </tr>\n",
       "  </thead>\n",
       "  <tbody>\n",
       "    <tr>\n",
       "      <th>count</th>\n",
       "      <td>61364.000000</td>\n",
       "      <td>61364.000000</td>\n",
       "      <td>61364.0</td>\n",
       "      <td>6.136400e+04</td>\n",
       "    </tr>\n",
       "    <tr>\n",
       "      <th>mean</th>\n",
       "      <td>1.092258</td>\n",
       "      <td>1.092258</td>\n",
       "      <td>0.0</td>\n",
       "      <td>1.680615e+09</td>\n",
       "    </tr>\n",
       "    <tr>\n",
       "      <th>std</th>\n",
       "      <td>0.002473</td>\n",
       "      <td>0.002473</td>\n",
       "      <td>0.0</td>\n",
       "      <td>2.019320e+04</td>\n",
       "    </tr>\n",
       "    <tr>\n",
       "      <th>min</th>\n",
       "      <td>1.088310</td>\n",
       "      <td>1.088310</td>\n",
       "      <td>0.0</td>\n",
       "      <td>1.680566e+09</td>\n",
       "    </tr>\n",
       "    <tr>\n",
       "      <th>25%</th>\n",
       "      <td>1.090160</td>\n",
       "      <td>1.090160</td>\n",
       "      <td>0.0</td>\n",
       "      <td>1.680601e+09</td>\n",
       "    </tr>\n",
       "    <tr>\n",
       "      <th>50%</th>\n",
       "      <td>1.091850</td>\n",
       "      <td>1.091850</td>\n",
       "      <td>0.0</td>\n",
       "      <td>1.680617e+09</td>\n",
       "    </tr>\n",
       "    <tr>\n",
       "      <th>75%</th>\n",
       "      <td>1.094800</td>\n",
       "      <td>1.094800</td>\n",
       "      <td>0.0</td>\n",
       "      <td>1.680630e+09</td>\n",
       "    </tr>\n",
       "    <tr>\n",
       "      <th>max</th>\n",
       "      <td>1.097330</td>\n",
       "      <td>1.097330</td>\n",
       "      <td>0.0</td>\n",
       "      <td>1.680653e+09</td>\n",
       "    </tr>\n",
       "  </tbody>\n",
       "</table>\n",
       "</div>"
      ],
      "text/plain": [
       "                BID           ASK   SPREAD     TIMESTAMP\n",
       "count  61364.000000  61364.000000  61364.0  6.136400e+04\n",
       "mean       1.092258      1.092258      0.0  1.680615e+09\n",
       "std        0.002473      0.002473      0.0  2.019320e+04\n",
       "min        1.088310      1.088310      0.0  1.680566e+09\n",
       "25%        1.090160      1.090160      0.0  1.680601e+09\n",
       "50%        1.091850      1.091850      0.0  1.680617e+09\n",
       "75%        1.094800      1.094800      0.0  1.680630e+09\n",
       "max        1.097330      1.097330      0.0  1.680653e+09"
      ]
     },
     "execution_count": 13,
     "metadata": {},
     "output_type": "execute_result"
    }
   ],
   "source": [
    "df.describe()"
   ]
  },
  {
   "cell_type": "markdown",
   "metadata": {},
   "source": [
    "# Transform"
   ]
  },
  {
   "cell_type": "markdown",
   "metadata": {},
   "source": [
    "1ª Etapa"
   ]
  },
  {
   "cell_type": "code",
   "execution_count": 19,
   "metadata": {},
   "outputs": [],
   "source": [
    "Y = [i for i in range(len(df)-1)]"
   ]
  },
  {
   "cell_type": "markdown",
   "metadata": {},
   "source": [
    "2ª Etapa"
   ]
  },
  {
   "cell_type": "code",
   "execution_count": 26,
   "metadata": {},
   "outputs": [],
   "source": [
    "# MME = (V – MME anterior) x (2/(n + 1) + MME\n",
    "\n",
    "def mme(vetor,w):\n",
    "    media = []\n",
    "    media_anterior = vetor[0]\n",
    "\n",
    "    for i in range(len(vetor)):\n",
    "        media_atual = (vetor[i] - media_anterior) * (2/(w +1)) + media_anterior\n",
    "        media.append(media_atual)\n",
    "        media_anterior = media_atual\n",
    "    \n",
    "    return media[-1]"
   ]
  },
  {
   "cell_type": "markdown",
   "metadata": {},
   "source": [
    "3ª Etapa"
   ]
  },
  {
   "cell_type": "markdown",
   "metadata": {},
   "source": []
  }
 ],
 "metadata": {
  "kernelspec": {
   "display_name": "Python 3",
   "language": "python",
   "name": "python3"
  },
  "language_info": {
   "codemirror_mode": {
    "name": "ipython",
    "version": 3
   },
   "file_extension": ".py",
   "mimetype": "text/x-python",
   "name": "python",
   "nbconvert_exporter": "python",
   "pygments_lexer": "ipython3",
   "version": "3.11.4"
  },
  "orig_nbformat": 4
 },
 "nbformat": 4,
 "nbformat_minor": 2
}
